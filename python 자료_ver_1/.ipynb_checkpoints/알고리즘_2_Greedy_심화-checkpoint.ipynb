{
 "cells": [
  {
   "cell_type": "markdown",
   "metadata": {},
   "source": [
    "# Greedy ( 그리디 ) 알고리즘\n",
    "\n",
    "### 그리디 알고리즘은 최적화 문제를 해결하는 알고리즘\n",
    "- 최적화 ( optimization ) 문제\n",
    "- 가능한 해들 중에서 가장 좋은 ( 최대 또는 최소 ) 해를 찾는 문제\n",
    "\n",
    "### 욕심쟁이 방법, 탐욕적 방법, 탐욕 알고리즘 등으로 불림\n",
    "\n",
    "### 그리디 알고리즘은 (입력) 데이터 간의 관계를 고려하지 않고 수행 과정에서 '욕심'내어 최소값 또는 최대값을 가진 데이터를 선택\n",
    "- 이러한 선택을 '근시안적'인 선택이라고 말하기도 함\n",
    "- 한 번 선택한 것에 대한 번복은 없다!"
   ]
  },
  {
   "cell_type": "markdown",
   "metadata": {},
   "source": [
    "## 2.1. 동전 거스름돈\n",
    "\n",
    "### 거스름돈을 동전으로 받아야 할 때, 누구나 적은 수의 동전으로 거슬러 받기를 원한다.\n",
    "\n",
    "> 예) 거스름돈이 760원이면<br>\n",
    "500원 동전 1개<br>\n",
    "100원 동전 2개<br>\n",
    "50원 동전 1개<br>\n",
    "10원 동전 1개"
   ]
  },
  {
   "cell_type": "code",
   "execution_count": 1,
   "metadata": {},
   "outputs": [
    {
     "name": "stdout",
     "output_type": "stream",
     "text": [
      "500원 짜리 동전 : 1개\n",
      "100원 짜리 동전 : 2개\n",
      "50원 짜리 동전 : 1개\n",
      "10원 짜리 동전 : 1개\n"
     ]
    }
   ],
   "source": [
    "change = 760  # 거스름돈\n",
    "\n",
    "coins = [500, 100, 50, 10, 5, 1]\n",
    "count = 0\n",
    "\n",
    "for index in range(len(coins)):\n",
    "    count = change // coins[index] # 동전 수\n",
    "    change = change % coins[index] # 남은 돈\n",
    "    if count != 0:\n",
    "        print(f\"{coins[index]}원 짜리 동전 : {count}개\")"
   ]
  },
  {
   "cell_type": "markdown",
   "metadata": {},
   "source": [
    "### 동전 문제를 파이썬 파일로 실행하기"
   ]
  },
  {
   "cell_type": "code",
   "execution_count": 3,
   "metadata": {},
   "outputs": [
    {
     "name": "stdout",
     "output_type": "stream",
     "text": [
      "10 4200\n",
      "1\n",
      "5\n",
      "10\n",
      "50\n",
      "100\n",
      "500\n",
      "1000\n",
      "5000\n",
      "10000\n",
      "50000\n",
      "(6, [1000, 100])\n"
     ]
    }
   ],
   "source": [
    "def greedy(coins, k):\n",
    "    changes = []   # 잔돈 종류 처리\n",
    "    coins = reversed(coins)\n",
    "    count = 0\n",
    "    total = k\n",
    "    for coin in coins:\n",
    "        if coin <= total and total % coin >= 0:\n",
    "            cnt = total // coin\n",
    "            count += cnt\n",
    "            total -= coin*cnt\n",
    "            changes.append(coin)\n",
    "        if total == 0:\n",
    "            break\n",
    "    return count, changes   # 잔액 갯수\n",
    " \n",
    "if __name__ == \"__main__\":\n",
    "    # 동전 개수와 잔액\n",
    "    n, k = map(int, input().split())\n",
    "    coins = []\n",
    "    for i in range(n):  # 동전 입력하기\n",
    "        coin = int(input())\n",
    "        coins.append(coin)\n",
    "    print(greedy(coins, k))\n",
    "\n"
   ]
  },
  {
   "cell_type": "code",
   "execution_count": null,
   "metadata": {},
   "outputs": [],
   "source": []
  },
  {
   "cell_type": "code",
   "execution_count": null,
   "metadata": {},
   "outputs": [],
   "source": []
  },
  {
   "cell_type": "markdown",
   "metadata": {},
   "source": [
    "### [문제] 거스름돈 486원에 대한 최소의 동전 수는?\n",
    "> 1원, 5원, 10원, 50원, 100원"
   ]
  },
  {
   "cell_type": "code",
   "execution_count": 4,
   "metadata": {},
   "outputs": [],
   "source": [
    "coins = [1,5,10,50,100]\n",
    "k= 486"
   ]
  },
  {
   "cell_type": "code",
   "execution_count": 5,
   "metadata": {},
   "outputs": [
    {
     "data": {
      "text/plain": [
       "(10, [100, 50, 10, 5, 1])"
      ]
     },
     "execution_count": 5,
     "metadata": {},
     "output_type": "execute_result"
    }
   ],
   "source": [
    "greedy(coins, k)"
   ]
  },
  {
   "cell_type": "code",
   "execution_count": 6,
   "metadata": {},
   "outputs": [
    {
     "data": {
      "text/plain": [
       "486"
      ]
     },
     "execution_count": 6,
     "metadata": {},
     "output_type": "execute_result"
    }
   ],
   "source": [
    "100 * 4 + 50 * 1 + 10 * 3 + 5 * 1 + 1 *1"
   ]
  },
  {
   "cell_type": "code",
   "execution_count": null,
   "metadata": {},
   "outputs": [],
   "source": []
  },
  {
   "cell_type": "markdown",
   "metadata": {},
   "source": [
    "## 2.2 배낭문제 \n",
    "\n",
    "- 배낭의 최대 무게는 15\n",
    "- (무게, 가치) 형태의 물품 4개\n",
    "    (2, 3)\n",
    "    (3, 4)\n",
    "    (4, 5)\n",
    "    (5, 6)\n",
    "    \n",
    " - benefit(가치) / weight(무게) 의 비율을 각 물품마다 구한다\n",
    "- 비율이 높은 순으로 정렬을 한다\n",
    "- 배낭에 물품들을 비율 높은 순으로 넣는다.\n",
    "- 만약에, 물품의 무게가 무게 최대치보다 크다면\n",
    "     (물품의 비율) * (최대치까지 남은 무게)를 구해서 답에 더해준다\n",
    "-  아니라면,\n",
    "   물품을 그대로 배낭에 넣고, 배낭에 넣을 수 있는 최대치 무게 값 들어간 무게만큼 줄인다.\n"
   ]
  },
  {
   "cell_type": "markdown",
   "metadata": {},
   "source": [
    "### 물품과 배낭 무게를 입력\n",
    "4 15"
   ]
  },
  {
   "cell_type": "code",
   "execution_count": 65,
   "metadata": {},
   "outputs": [
    {
     "name": "stdout",
     "output_type": "stream",
     "text": [
      "4 15\n"
     ]
    }
   ],
   "source": [
    "N, Weight = map(int, input().split())"
   ]
  },
  {
   "cell_type": "markdown",
   "metadata": {},
   "source": [
    "### 무게 입력\n",
    "2 3 4 5"
   ]
  },
  {
   "cell_type": "code",
   "execution_count": 38,
   "metadata": {},
   "outputs": [
    {
     "name": "stdout",
     "output_type": "stream",
     "text": [
      "2 3 4 5\n"
     ]
    }
   ],
   "source": [
    "w1 = list(map(int,input().split()))"
   ]
  },
  {
   "cell_type": "code",
   "execution_count": 16,
   "metadata": {},
   "outputs": [
    {
     "data": {
      "text/plain": [
       "[2, 3, 4, 5]"
      ]
     },
     "execution_count": 16,
     "metadata": {},
     "output_type": "execute_result"
    }
   ],
   "source": [
    "w1"
   ]
  },
  {
   "cell_type": "markdown",
   "metadata": {},
   "source": [
    "### 가치입력\n",
    "3 4 5 6"
   ]
  },
  {
   "cell_type": "code",
   "execution_count": 59,
   "metadata": {},
   "outputs": [
    {
     "name": "stdout",
     "output_type": "stream",
     "text": [
      "3 4 5 6\n"
     ]
    }
   ],
   "source": [
    "b1 = list(map(int,input().split()))"
   ]
  },
  {
   "cell_type": "code",
   "execution_count": 60,
   "metadata": {},
   "outputs": [
    {
     "data": {
      "text/plain": [
       "[3, 4, 5, 6]"
      ]
     },
     "execution_count": 60,
     "metadata": {},
     "output_type": "execute_result"
    }
   ],
   "source": [
    "b1"
   ]
  },
  {
   "cell_type": "markdown",
   "metadata": {},
   "source": [
    "### 비율 처리 "
   ]
  },
  {
   "cell_type": "code",
   "execution_count": 61,
   "metadata": {},
   "outputs": [],
   "source": [
    "ratio = [[0, 0] for _ in range(N)] # 왼쪽은 ratio값, 오른쪽은 index를 저장한다\n",
    "\n",
    "for i in range(N):\n",
    "    ratio[i][0] = b1[i]/w1[i]     # 비율\n",
    "    ratio[i][1] = i             # 인덱스"
   ]
  },
  {
   "cell_type": "code",
   "execution_count": 62,
   "metadata": {},
   "outputs": [
    {
     "data": {
      "text/plain": [
       "[[1.5, 0], [1.3333333333333333, 1], [1.25, 2], [1.2, 3]]"
      ]
     },
     "execution_count": 62,
     "metadata": {},
     "output_type": "execute_result"
    }
   ],
   "source": [
    "ratio"
   ]
  },
  {
   "cell_type": "markdown",
   "metadata": {},
   "source": [
    "### 총 무게"
   ]
  },
  {
   "cell_type": "markdown",
   "metadata": {},
   "source": [
    "#### 비율에 대한 정렬 : 음수로 변환해서 큰 값부터 정렬"
   ]
  },
  {
   "cell_type": "code",
   "execution_count": 63,
   "metadata": {},
   "outputs": [
    {
     "data": {
      "text/plain": [
       "[[1.5, 0], [1.3333333333333333, 1], [1.25, 2], [1.2, 3]]"
      ]
     },
     "execution_count": 63,
     "metadata": {},
     "output_type": "execute_result"
    }
   ],
   "source": [
    "sorted(ratio, key=lambda x:-x[0])"
   ]
  },
  {
   "cell_type": "code",
   "execution_count": 66,
   "metadata": {},
   "outputs": [
    {
     "name": "stdout",
     "output_type": "stream",
     "text": [
      "ans :  3\n",
      "ans :  7\n",
      "ans :  12\n",
      "ans :  18\n",
      "18\n",
      "1\n"
     ]
    }
   ],
   "source": [
    "ans = 0\n",
    "for r in sorted(ratio, key=lambda x:-x[0]):\n",
    "    if w1[r[1]] <= Weight:\n",
    "        Weight -= w1[r[1]]\n",
    "        ans += b1[r[1]]\n",
    "        print(\"ans : \", ans)\n",
    "    else:\n",
    "        ans += (Weight * r[0])\n",
    "        print(\"last ans :\", ans)\n",
    "        break\n",
    "print(ans)\n",
    "print(Weight)"
   ]
  },
  {
   "cell_type": "markdown",
   "metadata": {},
   "source": [
    "## 가방문제  2\n",
    "- 최고 17kg의 무게를 저장할 수 있는 가방이 있다. \n",
    "- 그리고 각각 3kg, 4kg, 7kg, 8kg, 9kg의 무게를 가진 5종류의 보석이 있다. \n",
    "- 이 보석들의 가치는 각각 4, 5, 10, 11, 13이다. \n",
    "- 이 보석을 가방에 담는데 17kg를 넘지 않으면서 최대의 가치가 되도록 하려면 어떻게 담아야 할까요? 각 종류별 보석의 개수는 무한이 많다. \n",
    "- 한 종류의 보석을 여러 번 가방에 담을 수 있다는 뜻입니다."
   ]
  },
  {
   "cell_type": "markdown",
   "metadata": {},
   "source": [
    "### 입력값 \n",
    "- 종류와 무게 5 17\n",
    "- 무게와 가치 \n",
    "3 4\n",
    "4 5\n",
    "7 10\n",
    "8 11\n",
    "9 13"
   ]
  },
  {
   "cell_type": "code",
   "execution_count": 28,
   "metadata": {},
   "outputs": [
    {
     "name": "stdout",
     "output_type": "stream",
     "text": [
      "5 17\n",
      "3 4\n",
      "value : 4\n",
      "value : 4\n",
      "value : 4\n",
      "value : 8\n",
      "value : 8\n",
      "value : 8\n",
      "value : 12\n",
      "value : 12\n",
      "value : 12\n",
      "value : 16\n",
      "value : 16\n",
      "value : 16\n",
      "value : 20\n",
      "value : 20\n",
      "value : 20\n",
      "4 5\n",
      "value : 5\n",
      "value : 5\n",
      "value : 8\n",
      "value : 9\n",
      "value : 10\n",
      "value : 12\n",
      "value : 13\n",
      "value : 14\n",
      "value : 16\n",
      "value : 17\n",
      "value : 18\n",
      "value : 20\n",
      "value : 21\n",
      "value : 22\n",
      "7 10\n",
      "value : 10\n",
      "value : 10\n",
      "value : 12\n",
      "value : 14\n",
      "value : 15\n",
      "value : 16\n",
      "value : 18\n",
      "value : 20\n",
      "value : 20\n",
      "value : 22\n",
      "value : 24\n",
      "8 11\n",
      "value : 11\n",
      "value : 12\n",
      "value : 14\n",
      "value : 15\n",
      "value : 16\n",
      "value : 18\n",
      "value : 20\n",
      "value : 21\n",
      "value : 22\n",
      "value : 24\n",
      "9 13\n",
      "value : 13\n",
      "value : 14\n",
      "value : 15\n",
      "value : 17\n",
      "value : 18\n",
      "value : 20\n",
      "value : 21\n",
      "value : 23\n",
      "value : 24\n",
      "24\n"
     ]
    }
   ],
   "source": [
    "n, m=map(int, input().split())\n",
    "# 0~무게제한만큼의 리스트를 0으로 초기화\n",
    "dy=[0]*(m+1);\n",
    "# 보석의 종류만큼 반복문\n",
    "for i in range(n):\n",
    "    # 보석의 무게와 가치를 각각 w,v에 할당\n",
    "    w, v=map(int, input().split())\n",
    "    # 보석의 무게부터 시작해서 무게제한까지 반복문\n",
    "    for j in range(w, m+1):\n",
    "        # 무게 w의 보석을 넣고 남는 공간이 있고, 그 공간을 채울 보석이 있다면 더해서 기존 dy[j]와 비교해서 큰 것을 넣는다\n",
    "        dy[j]=max(dy[j], dy[j-w]+v)\n",
    "        print(\"value :\", dy[j])\n",
    "print(dy[m])"
   ]
  },
  {
   "cell_type": "code",
   "execution_count": 30,
   "metadata": {},
   "outputs": [
    {
     "data": {
      "text/plain": [
       "17"
      ]
     },
     "execution_count": 30,
     "metadata": {},
     "output_type": "execute_result"
    }
   ],
   "source": [
    "9 + 8"
   ]
  },
  {
   "cell_type": "code",
   "execution_count": 31,
   "metadata": {},
   "outputs": [
    {
     "data": {
      "text/plain": [
       "24"
      ]
     },
     "execution_count": 31,
     "metadata": {},
     "output_type": "execute_result"
    }
   ],
   "source": [
    "13 + 11 "
   ]
  },
  {
   "cell_type": "code",
   "execution_count": 32,
   "metadata": {},
   "outputs": [
    {
     "data": {
      "text/plain": [
       "range(9, 18)"
      ]
     },
     "execution_count": 32,
     "metadata": {},
     "output_type": "execute_result"
    }
   ],
   "source": [
    "range(w,m+1)"
   ]
  },
  {
   "cell_type": "code",
   "execution_count": 33,
   "metadata": {},
   "outputs": [
    {
     "data": {
      "text/plain": [
       "18"
      ]
     },
     "execution_count": 33,
     "metadata": {},
     "output_type": "execute_result"
    }
   ],
   "source": [
    "len(dy)"
   ]
  },
  {
   "cell_type": "code",
   "execution_count": 34,
   "metadata": {},
   "outputs": [
    {
     "data": {
      "text/plain": [
       "[0, 0, 0, 4, 5, 5, 8, 10, 11, 13, 14, 15, 17, 18, 20, 21, 23, 24]"
      ]
     },
     "execution_count": 34,
     "metadata": {},
     "output_type": "execute_result"
    }
   ],
   "source": [
    "dy"
   ]
  },
  {
   "cell_type": "markdown",
   "metadata": {},
   "source": [
    "### 함수 정의"
   ]
  },
  {
   "cell_type": "code",
   "execution_count": 51,
   "metadata": {},
   "outputs": [],
   "source": [
    "def knapsack(N, Weight, w, b) :\n",
    "    ratio = [[0, 0] for _ in range(N)] # 왼쪽은 ratio값, 오른쪽은 index를 저장한다\n",
    "\n",
    "    for i in range(N):\n",
    "        ratio[i][0] = b[i]/w[i]\n",
    "        ratio[i][1] = i \n",
    "    \n",
    "    ans = 0\n",
    "    for r in sorted(ratio, key=lambda x:-x[0]):\n",
    "        if w[r[1]] <= Weight:\n",
    "            Weight -= w[r[1]]\n",
    "            ans += b[r[1]]\n",
    "        else:\n",
    "            ans += (Weight * r[0])\n",
    "            break\n",
    "    return ans"
   ]
  },
  {
   "cell_type": "code",
   "execution_count": 52,
   "metadata": {},
   "outputs": [
    {
     "data": {
      "text/plain": [
       "18"
      ]
     },
     "execution_count": 52,
     "metadata": {},
     "output_type": "execute_result"
    }
   ],
   "source": [
    "knapsack(4, 15, w1, b1)"
   ]
  },
  {
   "cell_type": "code",
   "execution_count": 53,
   "metadata": {},
   "outputs": [],
   "source": [
    "# 용량 40일 경우\n",
    "capacity = 40\n",
    "\n",
    "# 그램당 가치 순 정렬 ( 백금, 금, 은, 주석)\n",
    "weight = [10, 15, 25, 50]\n",
    "unit_value = [60, 50, 4, 1]"
   ]
  },
  {
   "cell_type": "code",
   "execution_count": 54,
   "metadata": {},
   "outputs": [
    {
     "data": {
      "text/plain": [
       "112.4"
      ]
     },
     "execution_count": 54,
     "metadata": {},
     "output_type": "execute_result"
    }
   ],
   "source": [
    "knapsack(4, capacity, weight, unit_value)"
   ]
  },
  {
   "cell_type": "code",
   "execution_count": null,
   "metadata": {},
   "outputs": [],
   "source": []
  },
  {
   "cell_type": "markdown",
   "metadata": {},
   "source": [
    "## 2.3. 숫자 선택\n",
    "\n",
    "### 주어진 숫자들 가운데서 합하여 K가 되는 숫자를 찾아보자.\n",
    "\n",
    "> 예 [1,4,7,13,25,64,125,260,550]  K = 85<br>\n",
    "1 + 7 + 13 + 64 = 85<br><br>\n",
    "* 단 문제에 항상 답이 있다 가정"
   ]
  },
  {
   "cell_type": "markdown",
   "metadata": {},
   "source": [
    ">가장 큰 숫자부터 차례대로 다음과 같이 검사. 단 K = 0이면 알고리즘을 종료한다.\n",
    "- 만일 현재 검사하는 숫자가 K보다 크면 그 숫자는 무시한다.\n",
    "- 현재 검사하는 숫자가 K와 같거나 작으면, 그 숫자를 선택한다. 그리고 선택한 숫자만큼 K를 감소시킨다."
   ]
  },
  {
   "cell_type": "code",
   "execution_count": 56,
   "metadata": {},
   "outputs": [
    {
     "name": "stdout",
     "output_type": "stream",
     "text": [
      "[64, 13, 7, 1]\n"
     ]
    }
   ],
   "source": [
    "# 목표 K = 85\n",
    "K = 85\n",
    "\n",
    "data_list = [1, 4, 7, 13, 25, 64, 125, 260, 550]\n",
    "n = len(data_list)\n",
    "subset = []\n",
    "\n",
    "i = n - 1\n",
    "while K > 0:\n",
    "    if data_list[i] <= K:\n",
    "        subset.append(data_list[i])\n",
    "        K -= data_list[i]\n",
    "        \n",
    "    i -= 1\n",
    "    \n",
    "print(subset)"
   ]
  },
  {
   "cell_type": "code",
   "execution_count": null,
   "metadata": {},
   "outputs": [],
   "source": []
  }
 ],
 "metadata": {
  "kernelspec": {
   "display_name": "Python 3",
   "language": "python",
   "name": "python3"
  },
  "language_info": {
   "codemirror_mode": {
    "name": "ipython",
    "version": 3
   },
   "file_extension": ".py",
   "mimetype": "text/x-python",
   "name": "python",
   "nbconvert_exporter": "python",
   "pygments_lexer": "ipython3",
   "version": "3.7.9"
  }
 },
 "nbformat": 4,
 "nbformat_minor": 4
}
