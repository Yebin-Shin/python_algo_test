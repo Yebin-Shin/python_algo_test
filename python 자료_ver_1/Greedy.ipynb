{
 "cells": [
  {
   "cell_type": "markdown",
   "metadata": {},
   "source": [
    "# Greedy ( 그리디 ) 알고리즘\n",
    "\n",
    "### 그리디 알고리즘은 최적화 문제를 해결하는 알고리즘\n",
    "- 최적화 ( optimization ) 문제\n",
    "- 가능한 해들 중에서 가장 좋은 ( 최대 또는 최소 ) 해를 찾는 문제\n",
    "\n",
    "### 욕심쟁이 방법, 탐욕적 방법, 탐욕 알고리즘 등으로 불림\n",
    "\n",
    "### 그리디 알고리즘은 (입력) 데이터 간의 관계를 고려하지 않고 수행 과정에서 '욕심'내어 최소값 또는 최대값을 가진 데이터를 선택\n",
    "- 이러한 선택을 '근시안적'인 선택이라고 말하기도 함\n",
    "- 한 번 선택한 것에 대한 번복은 없다!"
   ]
  },
  {
   "cell_type": "markdown",
   "metadata": {},
   "source": [
    "## 1. 동전 거스름돈\n",
    "\n",
    "### 거스름돈을 동전으로 받아야 할 때, 누구나 적은 수의 동전으로 거슬러 받기를 원한다.\n",
    "\n",
    "> 예) 거스름돈이 760원이면<br>\n",
    "500원 동전 1개<br>\n",
    "100원 동전 2개<br>\n",
    "50원 동전 1개<br>\n",
    "10원 동전 1개"
   ]
  },
  {
   "cell_type": "code",
   "execution_count": 3,
   "metadata": {},
   "outputs": [
    {
     "name": "stdout",
     "output_type": "stream",
     "text": [
      "500원 짜리 동전 : 1개\n",
      "100원 짜리 동전 : 2개\n",
      "50원 짜리 동전 : 1개\n",
      "10원 짜리 동전 : 1개\n"
     ]
    }
   ],
   "source": [
    "change = 760  # 거스름돈\n",
    "\n",
    "coins = [500, 100, 50, 10, 5, 1]\n",
    "count = 0\n",
    "\n",
    "for index in range(len(coins)):\n",
    "    count = change // coins[index] # 동전 수\n",
    "    change = change % coins[index] # 남은 돈\n",
    "    if count != 0:\n",
    "        print(f\"{coins[index]}원 짜리 동전 : {count}개\")"
   ]
  },
  {
   "cell_type": "markdown",
   "metadata": {},
   "source": [
    "### [문제] 거스름돈 486원에 대한 최소의 동전 수는?\n",
    "> 1원, 5원, 10원, 50원, 100원"
   ]
  },
  {
   "cell_type": "markdown",
   "metadata": {},
   "source": [
    "### [문제] 만일 1원 동전이 없으면 어떤 문제가 발생할까?"
   ]
  },
  {
   "attachments": {},
   "cell_type": "markdown",
   "metadata": {},
   "source": [
    "## 2. 부분 배낭\n",
    "\n",
    "### 금, 은, 백금, 주석이 분말 형태로 각각의 주머니에 담겨있다. 각 주머니에 담긴 금속의 무게와 단위 그램 당 가격이 주어질 때, 가장 큰 가치를 얻기 위해 한정된 용량의 배낭을 어떻게 채워야 할까?\n",
    "\n",
    "> 주석 50g : 5만원<br>\n",
    "백금 10g : 60만원<br>\n",
    "은 25g : 10만원<br>\n",
    "금 15g : 75만원"
   ]
  },
  {
   "cell_type": "markdown",
   "metadata": {},
   "source": [
    "#### 그램당 가치로 변환 ( 1g )\n",
    "> 백금 6만원<br>\n",
    "금 5만원<br>\n",
    "은 4천원<br>\n",
    "주석 1천원"
   ]
  },
  {
   "cell_type": "code",
   "execution_count": 6,
   "metadata": {},
   "outputs": [
    {
     "name": "stdout",
     "output_type": "stream",
     "text": [
      "배낭에 담긴 가치는 141 만원.\n",
      "배낭에 담긴 item 리스트 : \n",
      "item 0item 1\n",
      "item 2은 15만 배낭에 담겼음.\n",
      "None\n"
     ]
    }
   ],
   "source": [
    "# 용량 40일 경우\n",
    "capacity = 40\n",
    "\n",
    "# 그램당 가치 순 정렬 ( 백금, 금, 은, 주석)\n",
    "weight = [10, 15, 25, 50]\n",
    "unit_value = [60, 50, 4, 1]\n",
    "\n",
    "value = 0 # 배낭에 담긴 item 들의 가치의 합\n",
    "weight_sum = 0 # 무게의 합\n",
    "item = 0\n",
    "\n",
    "while capacity >= weight_sum + weight[item]:\n",
    "    weight_sum += weight[item]\n",
    "    value += (weight[item] * unit_value[item])\n",
    "    item += 1\n",
    "    \n",
    "partial = capacity - weight_sum # 배낭에 부분적으로 담을 수 있는 무게\n",
    "\n",
    "if partial > 0:\n",
    "    value += (partial * unit_value[item])\n",
    "    \n",
    "print(f'배낭에 담긴 가치는 {value // 10} 만원.')\n",
    "print(f'배낭에 담긴 item 리스트 : ')\n",
    "for index in range(item):\n",
    "    print(f'item {index}', end='')\n",
    "\n",
    "if partial > 0:\n",
    "    print(print(f\"\\nitem {item}은 {partial}만 배낭에 담겼음.\"))"
   ]
  },
  {
   "cell_type": "markdown",
   "metadata": {},
   "source": [
    "### [문제] 다음과 같이 4개의 항목이 주어질 때 배낭의 용량이 각 20g 60g일 때 각각 얻는 이득은?\n",
    "> A: 20g 120<br>\n",
    "B: 6g 120<br>\n",
    "C: 40g 280<br>\n",
    "D: 10g 120\n",
    "\n",
    "- 268, 544"
   ]
  },
  {
   "attachments": {},
   "cell_type": "markdown",
   "metadata": {},
   "source": [
    "### [문제] 다음과 같이 4개의 항목이 주어질 때 배낭의 용량이 30 kg일 때 항목을 통째로 담아야만 할 때 그리디 알고리즘 얻는 이득과 최적해는? \n",
    ">A: 5 kg 50<br>B: 20 kg 140<br>C: 10 kg 60\n",
    "\n",
    "- 190, 200"
   ]
  },
  {
   "attachments": {},
   "cell_type": "markdown",
   "metadata": {},
   "source": [
    "## 3. 숫자 선택\n",
    "\n",
    "### 주어진 숫자들 가운데서 합하여 K가 되는 숫자를 찾아보자.\n",
    "\n",
    "> 예 [1,4,7,13,25,64,125,260,550]  K = 85<br>\n",
    "1 + 7 + 13 + 64 = 85<br><br>\n",
    "* 단 문제에 항상 답이 있다 가정"
   ]
  },
  {
   "attachments": {},
   "cell_type": "markdown",
   "metadata": {},
   "source": [
    ">가장 큰 숫자부터 차례대로 다음과 같이 검사. 단 K = 0이면 알고리즘을 종료한다.\n",
    "- 만일 현재 검사하는 숫자가 K보다 크면 그 숫자는 무시한다.\n",
    "- 현재 검사하는 숫자가 K와 같거나 작으면, 그 숫자를 선택한다. 그리고 선택한 숫자만큼 K를 감소시킨다."
   ]
  },
  {
   "cell_type": "code",
   "execution_count": 8,
   "metadata": {},
   "outputs": [
    {
     "name": "stdout",
     "output_type": "stream",
     "text": [
      "[64, 13, 7, 1]\n"
     ]
    }
   ],
   "source": [
    "# 목표 K = 85\n",
    "K = 85\n",
    "\n",
    "data_list = [1, 4, 7, 13, 25, 64, 125, 260, 550]\n",
    "n = len(data_list)\n",
    "subset = []\n",
    "\n",
    "i = n - 1\n",
    "while K > 0:\n",
    "    if data_list[i] <= K:\n",
    "        subset.append(data_list[i])\n",
    "        K -= data_list[i]\n",
    "        \n",
    "    i -= 1\n",
    "    \n",
    "print(subset)"
   ]
  },
  {
   "attachments": {},
   "cell_type": "markdown",
   "metadata": {},
   "source": [
    "### [문제] 다음과 같이 정수의 집합이 주어질 때 어떤 원소들의 합이 140이 될까?\n",
    "> [70, 30, 20, 50, 80]\n",
    "\n",
    "- 70, 20, 50"
   ]
  },
  {
   "cell_type": "code",
   "execution_count": null,
   "metadata": {},
   "outputs": [],
   "source": []
  }
 ],
 "metadata": {
  "kernelspec": {
   "display_name": "Python 3",
   "language": "python",
   "name": "python3"
  },
  "language_info": {
   "codemirror_mode": {
    "name": "ipython",
    "version": 3
   },
   "file_extension": ".py",
   "mimetype": "text/x-python",
   "name": "python",
   "nbconvert_exporter": "python",
   "pygments_lexer": "ipython3",
   "version": "3.7.6"
  }
 },
 "nbformat": 4,
 "nbformat_minor": 4
}
