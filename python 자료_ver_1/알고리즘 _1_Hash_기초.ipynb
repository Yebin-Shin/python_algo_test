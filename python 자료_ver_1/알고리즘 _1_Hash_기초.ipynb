{
 "cells": [
  {
   "cell_type": "markdown",
   "metadata": {},
   "source": [
    "# 2. 해시 \n",
    "\n",
    "- 해시는 해시함수를 통해 인덱스를 구성하고 이 인덱스로 직접 검색할 수 있는 방식\n",
    "- 파이쎤은 기본 자료구조로 dict를 제공"
   ]
  },
  {
   "cell_type": "markdown",
   "metadata": {},
   "source": [
    "##  2.1 dict 자료구조\n",
    "- 키와 값을 가지고 처리하는 클래스\n",
    "- 검색은 대괄호를 사용\n",
    "- 내부의 원소들을 키, 값, 키와 값으로 조회가 가능"
   ]
  },
  {
   "cell_type": "code",
   "execution_count": 1,
   "metadata": {},
   "outputs": [
    {
     "name": "stdout",
     "output_type": "stream",
     "text": [
      "### 딕셔너리의 키를 가지고 값을 선택 ###\n",
      "보\n",
      "### 딕셔너리의 키 ###\n",
      "가위\n",
      "바위\n",
      "보\n",
      "### 딕셔너리의 값 ###\n",
      "보\n",
      "가위\n",
      "바위\n",
      "### 딕셔너리의 키와 값 ###\n",
      "가위은 보 이다\n",
      "바위은 가위 이다\n",
      "보은 바위 이다\n"
     ]
    }
   ],
   "source": [
    "wintable = {\n",
    "    '가위' : '보',\n",
    "    '바위' : '가위',\n",
    "    '보' : '바위',\n",
    "}\n",
    "\n",
    "print('### 딕셔너리의 키를 가지고 값을 선택 ###')\n",
    "print(wintable['가위'])\n",
    "\n",
    "\n",
    "print('### 딕셔너리의 키 ###') \n",
    "for key in wintable.keys(): # keys() 생략 가능\n",
    "    print(key)\n",
    "    \n",
    "print('### 딕셔너리의 값 ###') \n",
    "for value in wintable.values():\n",
    "    print(value)\n",
    "    \n",
    "print('### 딕셔너리의 키와 값 ###')\n",
    "for key, value in wintable.items():\n",
    "    print(f'{key}은 {value} 이다')"
   ]
  },
  {
   "cell_type": "code",
   "execution_count": null,
   "metadata": {},
   "outputs": [],
   "source": []
  },
  {
   "cell_type": "markdown",
   "metadata": {},
   "source": [
    "## 2.2 딕셔너리 검색"
   ]
  },
  {
   "cell_type": "code",
   "execution_count": 2,
   "metadata": {},
   "outputs": [],
   "source": [
    "dd = dict([('김성철',30),('고성철',40)])"
   ]
  },
  {
   "cell_type": "code",
   "execution_count": 3,
   "metadata": {},
   "outputs": [
    {
     "data": {
      "text/plain": [
       "{'김성철': 30, '고성철': 40}"
      ]
     },
     "execution_count": 3,
     "metadata": {},
     "output_type": "execute_result"
    }
   ],
   "source": [
    "dd"
   ]
  },
  {
   "cell_type": "code",
   "execution_count": 4,
   "metadata": {},
   "outputs": [
    {
     "name": "stdout",
     "output_type": "stream",
     "text": [
      " 검색 오류 \n",
      "'최성철'\n"
     ]
    }
   ],
   "source": [
    "try :\n",
    "    dd['최성철']\n",
    "except Exception as e :\n",
    "    print(\" 검색 오류 \")\n",
    "    print(e)"
   ]
  },
  {
   "cell_type": "markdown",
   "metadata": {},
   "source": [
    "### 해시의 충돌\n",
    "- 동일한 키일 경우 값만 변경 처리"
   ]
  },
  {
   "cell_type": "code",
   "execution_count": 5,
   "metadata": {},
   "outputs": [],
   "source": [
    "dd['김성철'] = 100"
   ]
  },
  {
   "cell_type": "code",
   "execution_count": 6,
   "metadata": {},
   "outputs": [
    {
     "data": {
      "text/plain": [
       "{'김성철': 100, '고성철': 40}"
      ]
     },
     "execution_count": 6,
     "metadata": {},
     "output_type": "execute_result"
    }
   ],
   "source": [
    "dd"
   ]
  },
  {
   "cell_type": "markdown",
   "metadata": {},
   "source": [
    "### 키가 없는 경우 디폴드값 처리\n",
    "\n",
    "-  내부 값은 변경되지 않음"
   ]
  },
  {
   "cell_type": "code",
   "execution_count": 7,
   "metadata": {},
   "outputs": [
    {
     "data": {
      "text/plain": [
       "50"
      ]
     },
     "execution_count": 7,
     "metadata": {},
     "output_type": "execute_result"
    }
   ],
   "source": [
    "dd.get('홍성철', 50)"
   ]
  },
  {
   "cell_type": "code",
   "execution_count": 8,
   "metadata": {},
   "outputs": [
    {
     "data": {
      "text/plain": [
       "{'김성철': 100, '고성철': 40}"
      ]
     },
     "execution_count": 8,
     "metadata": {},
     "output_type": "execute_result"
    }
   ],
   "source": [
    "dd"
   ]
  },
  {
   "cell_type": "markdown",
   "metadata": {},
   "source": [
    "### 키가 없는 경우 내부 키와 값을 처리\n",
    "\n",
    "- 기존에 있으면 변경하지 않음 "
   ]
  },
  {
   "cell_type": "code",
   "execution_count": 9,
   "metadata": {},
   "outputs": [
    {
     "data": {
      "text/plain": [
       "50"
      ]
     },
     "execution_count": 9,
     "metadata": {},
     "output_type": "execute_result"
    }
   ],
   "source": [
    "dd.setdefault('홍성철', 50)"
   ]
  },
  {
   "cell_type": "code",
   "execution_count": 10,
   "metadata": {},
   "outputs": [
    {
     "data": {
      "text/plain": [
       "50"
      ]
     },
     "execution_count": 10,
     "metadata": {},
     "output_type": "execute_result"
    }
   ],
   "source": [
    "dd.setdefault('홍성철', 99)"
   ]
  },
  {
   "cell_type": "code",
   "execution_count": 11,
   "metadata": {},
   "outputs": [
    {
     "data": {
      "text/plain": [
       "{'김성철': 100, '고성철': 40, '홍성철': 50}"
      ]
     },
     "execution_count": 11,
     "metadata": {},
     "output_type": "execute_result"
    }
   ],
   "source": [
    "dd"
   ]
  },
  {
   "cell_type": "markdown",
   "metadata": {},
   "source": [
    "### 검색결과 에러를 방지하는 클래스 사용"
   ]
  },
  {
   "cell_type": "code",
   "execution_count": 12,
   "metadata": {},
   "outputs": [],
   "source": [
    "from collections import defaultdict"
   ]
  },
  {
   "cell_type": "code",
   "execution_count": 13,
   "metadata": {},
   "outputs": [],
   "source": [
    "a = defaultdict(int)"
   ]
  },
  {
   "cell_type": "code",
   "execution_count": 14,
   "metadata": {},
   "outputs": [
    {
     "data": {
      "text/plain": [
       "0"
      ]
     },
     "execution_count": 14,
     "metadata": {},
     "output_type": "execute_result"
    }
   ],
   "source": [
    "a['김성철']"
   ]
  },
  {
   "cell_type": "code",
   "execution_count": null,
   "metadata": {},
   "outputs": [],
   "source": []
  },
  {
   "cell_type": "markdown",
   "metadata": {},
   "source": [
    "## 2.3 특정 참가자 중에 완주하지 못한 사람을 찾기 \n",
    "\n",
    "- 참가자와 완주자를 지정\n",
    "- 함수의 매개변수에는 참가자, 완주자, 미완주자에 대한 출력명수"
   ]
  },
  {
   "cell_type": "code",
   "execution_count": 15,
   "metadata": {},
   "outputs": [],
   "source": [
    "participant = ['김철수', '홍길동','임종문']\n",
    "completion = ['임종문']"
   ]
  },
  {
   "cell_type": "code",
   "execution_count": 16,
   "metadata": {},
   "outputs": [],
   "source": [
    "def solution(participant,completion, n):\n",
    "    d  = {} # 빈 사전을 만들고\n",
    "    for x in participant :\n",
    "        d.setdefault(x,0)\n",
    "        d[x] +=  1\n",
    "        # 처음 등장하면 1로 만들고, 처음 등장한게 아니면, 원래 있던 value에 1을 더해줌\n",
    "    for x in completion:\n",
    "        d[x] -=1\n",
    "    # 완주하지 못한 사람 추출\n",
    "    dnf = [k for k, v in d.items() if v >0]\n",
    "    answer = dnf[:n]\n",
    "    return answer"
   ]
  },
  {
   "cell_type": "code",
   "execution_count": 17,
   "metadata": {},
   "outputs": [
    {
     "name": "stdout",
     "output_type": "stream",
     "text": [
      "1.17 µs ± 28.5 ns per loop (mean ± std. dev. of 7 runs, 1000000 loops each)\n"
     ]
    }
   ],
   "source": [
    "%timeit solution(participant, completion, 2)"
   ]
  },
  {
   "cell_type": "code",
   "execution_count": 18,
   "metadata": {},
   "outputs": [
    {
     "data": {
      "text/plain": [
       "['김철수', '홍길동']"
      ]
     },
     "execution_count": 18,
     "metadata": {},
     "output_type": "execute_result"
    }
   ],
   "source": [
    "solution(participant, completion, 2)"
   ]
  },
  {
   "cell_type": "markdown",
   "metadata": {},
   "source": [
    "### in 사용 \n",
    "\n",
    "- 센치미터(cm:10-2m), 밀리미터(mm: 10-3m), 마이크로미터(μm: 10-6m),\n",
    "- 나노미터(nm:10-9m), 옹스트롬(Å: 10-10m), 피코미터(pm: 10-12m)"
   ]
  },
  {
   "cell_type": "code",
   "execution_count": 19,
   "metadata": {},
   "outputs": [],
   "source": [
    "def solution1(participant, completion,n):\n",
    "    dnf =[]\n",
    "    for i in range(len(participant)):\n",
    "        if participant[i] not in completion :\n",
    "            dnf.append(participant[i])\n",
    "    return dnf[:n]"
   ]
  },
  {
   "cell_type": "code",
   "execution_count": 20,
   "metadata": {},
   "outputs": [
    {
     "name": "stdout",
     "output_type": "stream",
     "text": [
      "672 ns ± 9.72 ns per loop (mean ± std. dev. of 7 runs, 1000000 loops each)\n"
     ]
    }
   ],
   "source": [
    "%timeit solution1(participant, completion, 2)"
   ]
  },
  {
   "cell_type": "code",
   "execution_count": 21,
   "metadata": {},
   "outputs": [
    {
     "data": {
      "text/plain": [
       "['김철수', '홍길동']"
      ]
     },
     "execution_count": 21,
     "metadata": {},
     "output_type": "execute_result"
    }
   ],
   "source": [
    "solution1(participant, completion,2)"
   ]
  },
  {
   "cell_type": "markdown",
   "metadata": {},
   "source": [
    "### Counter 클래스를 사용해서 간단하게 구하기\n",
    "\n",
    "- Counter 클래스는 키의 개수를 값으로 가짐\n",
    "- 키를 기반으로 산술연산이 가능"
   ]
  },
  {
   "cell_type": "code",
   "execution_count": 22,
   "metadata": {},
   "outputs": [],
   "source": [
    "from collections import Counter"
   ]
  },
  {
   "cell_type": "code",
   "execution_count": 23,
   "metadata": {},
   "outputs": [],
   "source": [
    "def solution_(participant,completion, n):\n",
    "    par = Counter(participant)\n",
    "    com = Counter(completion)\n",
    "    par -= com \n",
    "    # 단 한명만 완주하지 못했으므로, 그리고 그게 1명이라고 했으므로\n",
    "    dnf = [k for k, v in par.items() if v >0]\n",
    "    answer = dnf[:n]\n",
    "    return answer"
   ]
  },
  {
   "cell_type": "code",
   "execution_count": 24,
   "metadata": {},
   "outputs": [
    {
     "name": "stdout",
     "output_type": "stream",
     "text": [
      "5.31 µs ± 190 ns per loop (mean ± std. dev. of 7 runs, 100000 loops each)\n"
     ]
    }
   ],
   "source": [
    "%timeit solution_(participant, completion, 2)"
   ]
  },
  {
   "cell_type": "code",
   "execution_count": 25,
   "metadata": {},
   "outputs": [
    {
     "data": {
      "text/plain": [
       "['김철수', '홍길동']"
      ]
     },
     "execution_count": 25,
     "metadata": {},
     "output_type": "execute_result"
    }
   ],
   "source": [
    "solution_(participant, completion, 2)"
   ]
  },
  {
   "cell_type": "code",
   "execution_count": null,
   "metadata": {},
   "outputs": [],
   "source": []
  }
 ],
 "metadata": {
  "kernelspec": {
   "display_name": "Python 3",
   "language": "python",
   "name": "python3"
  },
  "language_info": {
   "codemirror_mode": {
    "name": "ipython",
    "version": 3
   },
   "file_extension": ".py",
   "mimetype": "text/x-python",
   "name": "python",
   "nbconvert_exporter": "python",
   "pygments_lexer": "ipython3",
   "version": "3.7.9"
  }
 },
 "nbformat": 4,
 "nbformat_minor": 2
}
