{
 "cells": [
  {
   "cell_type": "markdown",
   "metadata": {},
   "source": [
    "# 4 힙이란"
   ]
  },
  {
   "cell_type": "markdown",
   "metadata": {},
   "source": [
    "### 최댓값과 최솟값을 빠르게 찾기 위해 고안된 자료구조\n",
    "- 각 노드의 key값이 해당 노드의 자식노드의 key값보다 작지 않거나 크지 않은 완전 이진트리\n",
    "- 키 값의 대소관계는 부모-자식 노드 사이 간에만 성립하며 형제 노드 사이에는 영향을 미치지 않음\n",
    "- 자식노드의 최대 개수는 힙의 종류에 따라 다르지만 이진트리에서는 최대 2개 (완전이진트리를 사용한다고 가정하자.)\n",
    "- i번째 노드의 자식노드가 2개인데 왼쪽 자식노드는 2i, 오른쪽 자식노드는 2i+1이고, 부모노드는 i/2가 된다."
   ]
  },
  {
   "cell_type": "markdown",
   "metadata": {},
   "source": [
    "* 최대 힙 (max heap)\n",
    ": 각 노드의 키 값이 그 자식노드의 키 값보다 작지 않은 힙\n",
    "\n",
    "key(T.parent(v)) > key(v)\n",
    "\n",
    " \n",
    "\n",
    " \n",
    "\n",
    "* 최소 힙 (min heap)\n",
    ": 각 노드의 키 값이 그 자식노드의 키 값보다 크지 않은 힙\n",
    "\n",
    "key(T.parent(v)) < key(v)\n",
    "\n",
    "* 시간복잡도\n",
    ": O(log n)"
   ]
  },
  {
   "cell_type": "markdown",
   "metadata": {},
   "source": [
    "* 삽입 연산 (insertion)\n",
    ">1. 삽입하고자 하는 값을 트리의 가장 마지막 원소에 추가한다.<br>\n",
    ">2. 부모노드와의 대소관계를 비교하면서 만족할 때까지 자리 교환을 반복한다.\n",
    " \n",
    "\n",
    "* 삭제 연산 (deletion)\n",
    ">1. 힙에서는 루트 노드만 삭제가 가능하므로 루트 노드를 제거한다.<br>\n",
    ">2. 가장 마지막 노드를 루트로 이동시킨다.\n",
    ">3. 자식노드와 비교하여 조건이 만족할 때까지 이동시킨다."
   ]
  },
  {
   "cell_type": "markdown",
   "metadata": {},
   "source": [
    "## 4-1 힙 모듈 알아보기"
   ]
  },
  {
   "cell_type": "markdown",
   "metadata": {},
   "source": [
    "### 파이썬 힙 모듈 "
   ]
  },
  {
   "cell_type": "code",
   "execution_count": 1,
   "metadata": {},
   "outputs": [],
   "source": [
    "import heapq"
   ]
  },
  {
   "cell_type": "markdown",
   "metadata": {},
   "source": [
    "### 모듈 내의 함수들 확인"
   ]
  },
  {
   "cell_type": "code",
   "execution_count": 3,
   "metadata": {},
   "outputs": [
    {
     "name": "stdout",
     "output_type": "stream",
     "text": [
      "heapify, heappop, heappush, heappushpop, heapreplace, \n",
      "merge, nlargest, nsmallest, "
     ]
    }
   ],
   "source": [
    "count = 0\n",
    "for i in dir(heapq) :\n",
    "    if not i.startswith(\"_\") :\n",
    "        print(i, end=\", \")\n",
    "        count += 1\n",
    "        if count % 5 == 0 :\n",
    "            print()"
   ]
  },
  {
   "cell_type": "markdown",
   "metadata": {},
   "source": [
    "#### 파이썬의 보통 리스트를 마치 최소 힙처럼 다룰 수 있도록 도와줍니다."
   ]
  },
  {
   "cell_type": "code",
   "execution_count": 9,
   "metadata": {},
   "outputs": [],
   "source": [
    "heap = []"
   ]
  },
  {
   "cell_type": "markdown",
   "metadata": {},
   "source": [
    "#### 힙에 원소를 넣는다"
   ]
  },
  {
   "cell_type": "code",
   "execution_count": 10,
   "metadata": {},
   "outputs": [],
   "source": [
    "heapq.heappush(heap, 4)\n",
    "heapq.heappush(heap, 1)\n",
    "heapq.heappush(heap, 7)\n",
    "heapq.heappush(heap, 3)"
   ]
  },
  {
   "cell_type": "code",
   "execution_count": 11,
   "metadata": {},
   "outputs": [
    {
     "data": {
      "text/plain": [
       "[1, 3, 7, 4]"
      ]
     },
     "execution_count": 11,
     "metadata": {},
     "output_type": "execute_result"
    }
   ],
   "source": [
    "heap"
   ]
  },
  {
   "cell_type": "markdown",
   "metadata": {},
   "source": [
    "#### 힙에서 원소를 꺼낸다"
   ]
  },
  {
   "cell_type": "code",
   "execution_count": 12,
   "metadata": {},
   "outputs": [
    {
     "data": {
      "text/plain": [
       "7"
      ]
     },
     "execution_count": 12,
     "metadata": {},
     "output_type": "execute_result"
    }
   ],
   "source": [
    "heapq.heappop(heap)\n",
    "heapq.heappop(heap)\n",
    "heapq.heappop(heap)\n",
    "heapq.heappop(heap)"
   ]
  },
  {
   "cell_type": "code",
   "execution_count": 13,
   "metadata": {},
   "outputs": [
    {
     "data": {
      "text/plain": [
       "[]"
      ]
     },
     "execution_count": 13,
     "metadata": {},
     "output_type": "execute_result"
    }
   ],
   "source": [
    "heap"
   ]
  },
  {
   "cell_type": "markdown",
   "metadata": {},
   "source": [
    "#### 기존 리스트를 힙으로 변환"
   ]
  },
  {
   "cell_type": "code",
   "execution_count": 14,
   "metadata": {},
   "outputs": [
    {
     "name": "stdout",
     "output_type": "stream",
     "text": [
      "[1, 3, 5, 4, 8, 7]\n"
     ]
    }
   ],
   "source": [
    "heap = [4, 1, 7, 3, 8, 5]\n",
    "heapq.heapify(heap)\n",
    "print(heap)"
   ]
  },
  {
   "cell_type": "code",
   "execution_count": 15,
   "metadata": {},
   "outputs": [
    {
     "data": {
      "text/plain": [
       "list"
      ]
     },
     "execution_count": 15,
     "metadata": {},
     "output_type": "execute_result"
    }
   ],
   "source": [
    "type(heap)"
   ]
  },
  {
   "cell_type": "markdown",
   "metadata": {},
   "source": [
    "### 특정 최대값과 최소값 가져오기"
   ]
  },
  {
   "cell_type": "code",
   "execution_count": 41,
   "metadata": {},
   "outputs": [],
   "source": [
    "nums = [1, 8, 3, -5, 4, 99, -4, 0]"
   ]
  },
  {
   "cell_type": "code",
   "execution_count": 42,
   "metadata": {},
   "outputs": [],
   "source": [
    "heapq.heapify(nums)"
   ]
  },
  {
   "cell_type": "code",
   "execution_count": 45,
   "metadata": {},
   "outputs": [
    {
     "name": "stdout",
     "output_type": "stream",
     "text": [
      "[99, 8, 4]\n",
      "[-5, -4, 0]\n"
     ]
    }
   ],
   "source": [
    "print(heapq.nlargest(3, nums)) #-> [99, 8, 4]\n",
    "print(heapq.nsmallest(3, nums)) #-> [-5, -4, 0]"
   ]
  },
  {
   "cell_type": "code",
   "execution_count": null,
   "metadata": {},
   "outputs": [],
   "source": []
  },
  {
   "cell_type": "markdown",
   "metadata": {},
   "source": [
    "## 4-2 K번째 값을 구하기\n",
    "\n",
    "-  배열을 가지고 힙을 만든 후, heappop() 함수를 K번 호출"
   ]
  },
  {
   "cell_type": "markdown",
   "metadata": {},
   "source": [
    "### 함수 정의 \n",
    "\n",
    "- 힙에 데이터를 넣으면 힙구조에 최소값부터 처리됨\n",
    "- 숫자가 정렬된 구조로 처리됨"
   ]
  },
  {
   "cell_type": "code",
   "execution_count": 47,
   "metadata": {},
   "outputs": [],
   "source": [
    "def kth_smallest(nums, k):\n",
    "    heap = []\n",
    "    for num in nums:\n",
    "        heapq.heappush(heap, num)\n",
    "\n",
    "    kth_min = None\n",
    "    for _ in range(k):                 # k 번째 위치의 값을 반환\n",
    "        kth_min = heapq.heappop(heap)\n",
    "        \n",
    "    return kth_min\n",
    "\n"
   ]
  },
  {
   "cell_type": "code",
   "execution_count": 48,
   "metadata": {},
   "outputs": [],
   "source": [
    "heap = [4,1,7,3,8,5]"
   ]
  },
  {
   "cell_type": "code",
   "execution_count": 49,
   "metadata": {},
   "outputs": [
    {
     "data": {
      "text/plain": [
       "[1, 3, 4, 5, 7, 8]"
      ]
     },
     "execution_count": 49,
     "metadata": {},
     "output_type": "execute_result"
    }
   ],
   "source": [
    "sorted(heap)"
   ]
  },
  {
   "cell_type": "code",
   "execution_count": 50,
   "metadata": {},
   "outputs": [
    {
     "data": {
      "text/plain": [
       "4"
      ]
     },
     "execution_count": 50,
     "metadata": {},
     "output_type": "execute_result"
    }
   ],
   "source": [
    "kth_smallest(heap, 3)"
   ]
  },
  {
   "cell_type": "code",
   "execution_count": 51,
   "metadata": {},
   "outputs": [
    {
     "data": {
      "text/plain": [
       "5"
      ]
     },
     "execution_count": 51,
     "metadata": {},
     "output_type": "execute_result"
    }
   ],
   "source": [
    "kth_smallest(heap, 4)"
   ]
  },
  {
   "cell_type": "markdown",
   "metadata": {},
   "source": [
    "## 4-3 힙 정렬\n",
    "-  힙 정렬(heap sort)은 위에서 설명드린 힙 자료구조의 성질을 이용한 대표적인 정렬 알고리즘입니다."
   ]
  },
  {
   "cell_type": "markdown",
   "metadata": {},
   "source": [
    "## 힙생성과 정렬을 두 개의 함수로 작성"
   ]
  },
  {
   "cell_type": "markdown",
   "metadata": {},
   "source": [
    "#### 힙 생성"
   ]
  },
  {
   "cell_type": "code",
   "execution_count": 29,
   "metadata": {},
   "outputs": [],
   "source": [
    "def create_heap(nums) :\n",
    "    heap = []\n",
    "    for num in nums:\n",
    "        heapq.heappush(heap, num)\n",
    "    return heap"
   ]
  },
  {
   "cell_type": "markdown",
   "metadata": {},
   "source": [
    "#### 힙 정렬"
   ]
  },
  {
   "cell_type": "code",
   "execution_count": 30,
   "metadata": {},
   "outputs": [],
   "source": [
    "def heap_sort(nums):\n",
    "    heap = create_heap(nums)\n",
    "  \n",
    "    sorted_nums = []\n",
    "    while heap:\n",
    "        sorted_nums.append(heapq.heappop(heap))   # 힙은 자동으로 작은 값부터 들어가 있음\n",
    "    return sorted_nums\n"
   ]
  },
  {
   "cell_type": "code",
   "execution_count": 33,
   "metadata": {},
   "outputs": [],
   "source": [
    "heap = [4, 1, 7, 3, 8, 5]"
   ]
  },
  {
   "cell_type": "code",
   "execution_count": 34,
   "metadata": {},
   "outputs": [
    {
     "data": {
      "text/plain": [
       "[1, 3, 4, 5, 7, 8]"
      ]
     },
     "execution_count": 34,
     "metadata": {},
     "output_type": "execute_result"
    }
   ],
   "source": [
    "heap_sort(heap)"
   ]
  },
  {
   "cell_type": "markdown",
   "metadata": {},
   "source": [
    "## 4-4 우선 순위 큐\n",
    "\n",
    "- 튜플의 첫번째 요소는 우선순위 값, 두번째 요소는 데이터를 넣어서 만든다."
   ]
  },
  {
   "cell_type": "markdown",
   "metadata": {},
   "source": [
    "#### 데이터를 튜플로 전달해서 힙 생성"
   ]
  },
  {
   "cell_type": "code",
   "execution_count": 35,
   "metadata": {},
   "outputs": [],
   "source": [
    "h = []\n",
    "heapq.heappush(h, (3, \"Go to home\"))\n",
    "heapq.heappush(h, (10, \"Do not study\"))\n",
    "heapq.heappush(h, (1, \"Enjoy!\"))\n",
    "heapq.heappush(h, (4, \"Eat!\"))\n",
    "heapq.heappush(h, (7, \"Pray!\"))"
   ]
  },
  {
   "cell_type": "code",
   "execution_count": 36,
   "metadata": {},
   "outputs": [
    {
     "data": {
      "text/plain": [
       "[(1, 'Enjoy!'),\n",
       " (4, 'Eat!'),\n",
       " (3, 'Go to home'),\n",
       " (10, 'Do not study'),\n",
       " (7, 'Pray!')]"
      ]
     },
     "execution_count": 36,
     "metadata": {},
     "output_type": "execute_result"
    }
   ],
   "source": [
    "h"
   ]
  },
  {
   "cell_type": "markdown",
   "metadata": {},
   "source": [
    "#### 데이터 꺼내기"
   ]
  },
  {
   "cell_type": "code",
   "execution_count": 37,
   "metadata": {},
   "outputs": [
    {
     "name": "stdout",
     "output_type": "stream",
     "text": [
      "first: (1, 'Enjoy!')\n",
      "second: (3, 'Go to home')\n",
      "third: (4, 'Eat!')\n"
     ]
    }
   ],
   "source": [
    "first = heapq.heappop(h)\n",
    "second = heapq.heappop(h)\n",
    "third = heapq.heappop(h)\n",
    "print(\"first:\", first)\n",
    "print(\"second:\", second)\n",
    "print(\"third:\", third)"
   ]
  },
  {
   "cell_type": "code",
   "execution_count": null,
   "metadata": {},
   "outputs": [],
   "source": []
  }
 ],
 "metadata": {
  "kernelspec": {
   "display_name": "Python 3",
   "language": "python",
   "name": "python3"
  },
  "language_info": {
   "codemirror_mode": {
    "name": "ipython",
    "version": 3
   },
   "file_extension": ".py",
   "mimetype": "text/x-python",
   "name": "python",
   "nbconvert_exporter": "python",
   "pygments_lexer": "ipython3",
   "version": "3.7.9"
  }
 },
 "nbformat": 4,
 "nbformat_minor": 4
}
