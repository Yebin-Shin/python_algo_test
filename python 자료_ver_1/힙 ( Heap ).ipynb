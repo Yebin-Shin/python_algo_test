{
 "cells": [
  {
   "attachments": {
    "image.png": {
     "image/png": "[encoded data removed]"
    }
   },
   "cell_type": "markdown",
   "metadata": {},
   "source": [
    "### 힙이란?\n",
    "\n",
    "![image.png](attachment:image.png)\n",
    "\n",
    "최댓값과 최솟값을 빠르게 찾기 위해 고안된 자료구조\n",
    "\n",
    "- 각 노드의 key값이 해당 노드의 자식노드의 key값보다 작지 않거나 크지 않은 완전 이진트리\n",
    "\n",
    "- 키 값의 대소관계는 부모-자식 노드 사이 간에만 성립하며 형제 노드 사이에는 영향을 미치지 않음\n",
    "\n",
    "- 자식노드의 최대 개수는 힙의 종류에 따라 다르지만 이진트리에서는 최대 2개 (완전이진트리를 사용한다고 가정하자.)\n",
    "\n",
    "- i번째 노드의 자식노드가 2개인데 왼쪽 자식노드는 2i, 오른쪽 자식노드는 2i+1이고, 부모노드는 i/2가 된다."
   ]
  },
  {
   "cell_type": "markdown",
   "metadata": {},
   "source": [
    "* 최대 힙 (max heap)\n",
    ": 각 노드의 키 값이 그 자식노드의 키 값보다 작지 않은 힙\n",
    "\n",
    "key(T.parent(v)) > key(v)\n",
    "\n",
    " \n",
    "\n",
    " \n",
    "\n",
    "* 최소 힙 (min heap)\n",
    ": 각 노드의 키 값이 그 자식노드의 키 값보다 크지 않은 힙\n",
    "\n",
    "key(T.parent(v)) < key(v)\n",
    "\n",
    "* 시간복잡도\n",
    ": O(log n)"
   ]
  },
  {
   "cell_type": "markdown",
   "metadata": {},
   "source": [
    "* 삽입 연산 (insertion)\n",
    ">1. 삽입하고자 하는 값을 트리의 가장 마지막 원소에 추가한다.<br>\n",
    ">2. 부모노드와의 대소관계를 비교하면서 만족할 때까지 자리 교환을 반복한다.\n",
    " \n",
    "\n",
    "* 삭제 연산 (deletion)\n",
    ">1. 힙에서는 루트 노드만 삭제가 가능하므로 루트 노드를 제거한다.<br>\n",
    ">2. 가장 마지막 노드를 루트로 이동시킨다.\n",
    ">3. 자식노드와 비교하여 조건이 만족할 때까지 이동시킨다."
   ]
  },
  {
   "cell_type": "markdown",
   "metadata": {},
   "source": [
    "### heapq module\n",
    ": 파이썬에서 제공하는 힙큐 모듈, 일반적인 리스트를 min heap처럼 다룰 수 있게 해줌"
   ]
  },
  {
   "cell_type": "code",
   "execution_count": 2,
   "metadata": {},
   "outputs": [],
   "source": [
    "import heapq"
   ]
  },
  {
   "cell_type": "code",
   "execution_count": 14,
   "metadata": {},
   "outputs": [],
   "source": [
    "# 노드 추가 : heappush 메소드 사용\n",
    "heap = []\n",
    "heapq.heappush(heap, 2)"
   ]
  },
  {
   "cell_type": "code",
   "execution_count": 13,
   "metadata": {},
   "outputs": [
    {
     "data": {
      "text/plain": [
       "2"
      ]
     },
     "execution_count": 13,
     "metadata": {},
     "output_type": "execute_result"
    }
   ],
   "source": [
    "# 노드 삭제 : heappop 메소드 사용\n",
    "heapq.heappop(heap)"
   ]
  },
  {
   "cell_type": "code",
   "execution_count": 15,
   "metadata": {},
   "outputs": [
    {
     "name": "stdout",
     "output_type": "stream",
     "text": [
      "2\n"
     ]
    }
   ],
   "source": [
    "# 최소값을 꺼내지 않고 리턴만 하려면 인덱스로 접근하기\n",
    "print(heap[0])"
   ]
  },
  {
   "cell_type": "code",
   "execution_count": 20,
   "metadata": {},
   "outputs": [
    {
     "name": "stdout",
     "output_type": "stream",
     "text": [
      "[7, 5, 8, 3]\n",
      "<class 'list'>\n",
      "[3, 5, 8, 7]\n",
      "<class 'list'>\n"
     ]
    }
   ],
   "source": [
    "# 기존에 사용한 리스트를 힙으로 변환하기 : heapify 메소드 사용\n",
    "data_list = [7,5,8,3]\n",
    "print(data_list)\n",
    "print(type(data_list))\n",
    "heapq.heapify(data_list)\n",
    "print(data_list)\n",
    "print(type(data_list))\n",
    "# 힙 정렬됨"
   ]
  },
  {
   "cell_type": "code",
   "execution_count": 22,
   "metadata": {},
   "outputs": [
    {
     "name": "stdout",
     "output_type": "stream",
     "text": [
      "8\n",
      "7\n",
      "5\n",
      "4\n",
      "3\n",
      "1\n"
     ]
    }
   ],
   "source": [
    "# 최대 힙 만들기 : 우선순위가 포함된 튜플 사용하기\n",
    "nums = [4, 1, 7, 3, 8, 5]\n",
    "heap = []\n",
    "\n",
    "for num in nums:\n",
    "    heapq.heappush(heap, (-num, num))  # (우선 순위, 값)\n",
    "\n",
    "while heap:\n",
    "    print(heapq.heappop(heap)[1])  # index 1"
   ]
  },
  {
   "cell_type": "code",
   "execution_count": 26,
   "metadata": {},
   "outputs": [
    {
     "name": "stdout",
     "output_type": "stream",
     "text": [
      "[1, 3, 5, 4, 8, 7]\n",
      "4\n"
     ]
    }
   ],
   "source": [
    "# K번째 최소값/최대값\n",
    "# 최소 힙이나 최대 힙을 사용하면 K번째 최소값이나 최대값을 효율적으로 구할 수 있음\n",
    "\n",
    "nums = [4, 1, 7, 3, 8, 5]\n",
    "k = 3\n",
    "heap = []\n",
    "for num in nums:\n",
    "    heapq.heappush(heap, num)\n",
    "    \n",
    "min = None\n",
    "print(heap)\n",
    "for _ in range(k):\n",
    "    min = heapq.heappop(heap)\n",
    "        \n",
    "print(min)"
   ]
  },
  {
   "cell_type": "code",
   "execution_count": 27,
   "metadata": {},
   "outputs": [
    {
     "name": "stdout",
     "output_type": "stream",
     "text": [
      "[1, 3, 4, 5, 7, 8]\n"
     ]
    }
   ],
   "source": [
    "# 힙 정렬\n",
    "# 힙 정렬(heap sort)은 위 에서 설명한 힙 자료구조의 성질을 이용한 대표적인 정렬 알고리즘\n",
    "\n",
    "nums = [4, 1, 7, 3, 8, 5]\n",
    "heap = []\n",
    "for num in nums:\n",
    "    heapq.heappush(heap, num)\n",
    "\n",
    "sorted_nums = []\n",
    "while heap:\n",
    "    sorted_nums.append(heapq.heappop(heap))\n",
    "    \n",
    "print(sorted_nums)"
   ]
  },
  {
   "cell_type": "code",
   "execution_count": null,
   "metadata": {},
   "outputs": [],
   "source": []
  }
 ],
 "metadata": {
  "kernelspec": {
   "display_name": "Python 3",
   "language": "python",
   "name": "python3"
  },
  "language_info": {
   "codemirror_mode": {
    "name": "ipython",
    "version": 3
   },
   "file_extension": ".py",
   "mimetype": "text/x-python",
   "name": "python",
   "nbconvert_exporter": "python",
   "pygments_lexer": "ipython3",
   "version": "3.7.6"
  }
 },
 "nbformat": 4,
 "nbformat_minor": 4
}
